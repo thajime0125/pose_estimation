{
 "cells": [
  {
   "cell_type": "code",
   "execution_count": 12,
   "metadata": {},
   "outputs": [],
   "source": [
    "import mediapipe as mp\n",
    "from mediapipe.tasks import python\n",
    "from mediapipe.tasks.python import vision\n",
    "model_path = '../models/pose_landmarker_lite.task'\n",
    "video_path = '../data/20230514192027.mp4'"
   ]
  },
  {
   "cell_type": "code",
   "execution_count": 13,
   "metadata": {},
   "outputs": [],
   "source": [
    "import cv2\n",
    "movie = cv2.VideoCapture(video_path)\n",
    "movie_fps = movie.get(cv2.CAP_PROP_FPS)\n",
    "movie_frames = movie.get(cv2.CAP_PROP_FRAME_COUNT)\n",
    "initial_timestamp = 0"
   ]
  },
  {
   "cell_type": "code",
   "execution_count": 15,
   "metadata": {},
   "outputs": [
    {
     "ename": "TypeError",
     "evalue": "at(): incompatible function arguments. The following argument types are supported:\n    1. (self: mediapipe.python._framework_bindings.packet.Packet, arg0: int) -> mediapipe.python._framework_bindings.packet.Packet\n    2. (self: mediapipe.python._framework_bindings.packet.Packet, arg0: mediapipe.python._framework_bindings.timestamp.Timestamp) -> mediapipe.python._framework_bindings.packet.Packet\n\nInvoked with: <mediapipe.Packet with timestamp: UNSET and C++ type: ::mediapipe::Image>, 0.0",
     "output_type": "error",
     "traceback": [
      "\u001b[0;31m---------------------------------------------------------------------------\u001b[0m",
      "\u001b[0;31mTypeError\u001b[0m                                 Traceback (most recent call last)",
      "Cell \u001b[0;32mIn[15], line 18\u001b[0m\n\u001b[1;32m     16\u001b[0m     \u001b[39mbreak\u001b[39;00m\n\u001b[1;32m     17\u001b[0m mp_image \u001b[39m=\u001b[39m mp\u001b[39m.\u001b[39mImage(image_format\u001b[39m=\u001b[39mmp\u001b[39m.\u001b[39mImageFormat\u001b[39m.\u001b[39mSRGB, data\u001b[39m=\u001b[39mimage)\n\u001b[0;32m---> 18\u001b[0m pose_landmarker_result \u001b[39m=\u001b[39m landmarker\u001b[39m.\u001b[39;49mdetect_for_video(mp_image, frame_timestamp_ms)\n",
      "File \u001b[0;32m~/Library/Caches/pypoetry/virtualenvs/pose-estimation-Opz1ivWP-py3.8/lib/python3.8/site-packages/mediapipe/tasks/python/vision/pose_landmarker.py:396\u001b[0m, in \u001b[0;36mPoseLandmarker.detect_for_video\u001b[0;34m(self, image, timestamp_ms, image_processing_options)\u001b[0m\n\u001b[1;32m    370\u001b[0m \u001b[39m\u001b[39m\u001b[39m\"\"\"Performs pose landmarks detection on the provided video frame.\u001b[39;00m\n\u001b[1;32m    371\u001b[0m \n\u001b[1;32m    372\u001b[0m \u001b[39mOnly use this method when the PoseLandmarker is created with the video\u001b[39;00m\n\u001b[0;32m   (...)\u001b[0m\n\u001b[1;32m    390\u001b[0m \u001b[39m  RuntimeError: If pose landmarker detection failed to run.\u001b[39;00m\n\u001b[1;32m    391\u001b[0m \u001b[39m\"\"\"\u001b[39;00m\n\u001b[1;32m    392\u001b[0m normalized_rect \u001b[39m=\u001b[39m \u001b[39mself\u001b[39m\u001b[39m.\u001b[39mconvert_to_normalized_rect(\n\u001b[1;32m    393\u001b[0m     image_processing_options, image, roi_allowed\u001b[39m=\u001b[39m\u001b[39mFalse\u001b[39;00m\n\u001b[1;32m    394\u001b[0m )\n\u001b[1;32m    395\u001b[0m output_packets \u001b[39m=\u001b[39m \u001b[39mself\u001b[39m\u001b[39m.\u001b[39m_process_video_data({\n\u001b[0;32m--> 396\u001b[0m     _IMAGE_IN_STREAM_NAME: packet_creator\u001b[39m.\u001b[39;49mcreate_image(image)\u001b[39m.\u001b[39;49mat(\n\u001b[1;32m    397\u001b[0m         timestamp_ms \u001b[39m*\u001b[39;49m _MICRO_SECONDS_PER_MILLISECOND\n\u001b[1;32m    398\u001b[0m     ),\n\u001b[1;32m    399\u001b[0m     _NORM_RECT_STREAM_NAME: packet_creator\u001b[39m.\u001b[39mcreate_proto(\n\u001b[1;32m    400\u001b[0m         normalized_rect\u001b[39m.\u001b[39mto_pb2()\n\u001b[1;32m    401\u001b[0m     )\u001b[39m.\u001b[39mat(timestamp_ms \u001b[39m*\u001b[39m _MICRO_SECONDS_PER_MILLISECOND),\n\u001b[1;32m    402\u001b[0m })\n\u001b[1;32m    404\u001b[0m \u001b[39mif\u001b[39;00m output_packets[_NORM_LANDMARKS_STREAM_NAME]\u001b[39m.\u001b[39mis_empty():\n\u001b[1;32m    405\u001b[0m   \u001b[39mreturn\u001b[39;00m PoseLandmarkerResult([], [])\n",
      "\u001b[0;31mTypeError\u001b[0m: at(): incompatible function arguments. The following argument types are supported:\n    1. (self: mediapipe.python._framework_bindings.packet.Packet, arg0: int) -> mediapipe.python._framework_bindings.packet.Packet\n    2. (self: mediapipe.python._framework_bindings.packet.Packet, arg0: mediapipe.python._framework_bindings.timestamp.Timestamp) -> mediapipe.python._framework_bindings.packet.Packet\n\nInvoked with: <mediapipe.Packet with timestamp: UNSET and C++ type: ::mediapipe::Image>, 0.0"
     ]
    }
   ],
   "source": [
    "BaseOptions = mp.tasks.BaseOptions\n",
    "PoseLandmarker = mp.tasks.vision.PoseLandmarker\n",
    "PoseLandmarkerOptions = mp.tasks.vision.PoseLandmarkerOptions\n",
    "VisionRunningMode = mp.tasks.vision.RunningMode\n",
    "\n",
    "# Create a pose landmarker instance with the video mode:\n",
    "options = PoseLandmarkerOptions(\n",
    "    base_options=BaseOptions(model_asset_path=model_path),\n",
    "    running_mode=VisionRunningMode.VIDEO)\n",
    "\n",
    "with PoseLandmarker.create_from_options(options) as landmarker:\n",
    "    for f in range(int(movie_frames)):\n",
    "        frame_timestamp_ms = initial_timestamp + (f * 1000 / movie_fps)\n",
    "        success, image = movie.read()\n",
    "        if not success:\n",
    "            break\n",
    "        mp_image = mp.Image(image_format=mp.ImageFormat.SRGB, data=image)\n",
    "        pose_landmarker_result = landmarker.detect_for_video(mp_image, frame_timestamp_ms)"
   ]
  },
  {
   "cell_type": "code",
   "execution_count": null,
   "metadata": {},
   "outputs": [],
   "source": []
  }
 ],
 "metadata": {
  "kernelspec": {
   "display_name": "pose-estimation-Opz1ivWP-py3.8",
   "language": "python",
   "name": "python3"
  },
  "language_info": {
   "codemirror_mode": {
    "name": "ipython",
    "version": 3
   },
   "file_extension": ".py",
   "mimetype": "text/x-python",
   "name": "python",
   "nbconvert_exporter": "python",
   "pygments_lexer": "ipython3",
   "version": "3.11.7"
  },
  "orig_nbformat": 4
 },
 "nbformat": 4,
 "nbformat_minor": 2
}
