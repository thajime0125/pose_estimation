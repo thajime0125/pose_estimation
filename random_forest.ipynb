{
 "cells": [
  {
   "cell_type": "code",
   "execution_count": 7,
   "metadata": {},
   "outputs": [
    {
     "data": {
      "text/plain": [
       "((105, 200, 99), (105,))"
      ]
     },
     "execution_count": 7,
     "metadata": {},
     "output_type": "execute_result"
    }
   ],
   "source": [
    "import pandas as pd\n",
    "import numpy as np\n",
    "\n",
    "mst = pd.read_csv('mst_data/mst_game.csv')\n",
    "df = pd.DataFrame()\n",
    "for i, row in mst.iterrows():\n",
    "    _df = pd.read_csv(row['csv_file'])\n",
    "    _df['file_id'] = i\n",
    "    df = pd.concat([df, _df])\n",
    "df = df.groupby(['file_id', 'round']).filter(lambda x: x['round'].count() > 200 and x['round'].count() < 500)\n",
    "df = df.groupby(['file_id', 'round']).tail(200)\n",
    "\n",
    "# np.arrayに変換\n",
    "grouped_df = df.groupby(['file_id', 'round'])\n",
    "grouped_arrays = {name: group.drop(columns=['round', 'timestamp', 'file_id']).values for name, group in grouped_df}\n",
    "\n",
    "X = np.array(list(grouped_arrays.values()))\n",
    "Y = np.array([mst.loc[file]['player'] for file, round in list(grouped_arrays.keys())])\n",
    "X.shape, Y.shape"
   ]
  },
  {
   "cell_type": "code",
   "execution_count": 10,
   "metadata": {},
   "outputs": [
    {
     "name": "stderr",
     "output_type": "stream",
     "text": [
      "/var/folders/bt/mmlqb6hd6q96zq01wlk8xqk00000gn/T/ipykernel_57306/715148350.py:18: FutureWarning: Series.fillna with 'method' is deprecated and will raise in a future version. Use obj.ffill() or obj.bfill() instead.\n",
      "  X_smoothed[j, :, i] = pd.Series(X[j, :, i]).rolling(window=window_size).mean().fillna(method='bfill')\n"
     ]
    },
    {
     "name": "stdout",
     "output_type": "stream",
     "text": [
      "(73, 198) (73,)\n",
      "Accuracy: 1.0000\n"
     ]
    }
   ],
   "source": [
    "import numpy as np\n",
    "import pandas as pd\n",
    "import matplotlib.pyplot as plt\n",
    "from sklearn.ensemble import RandomForestClassifier\n",
    "from sklearn.model_selection import train_test_split\n",
    "from sklearn.metrics import accuracy_score\n",
    "\n",
    "n_samples = 105\n",
    "time_steps = 200\n",
    "n_features = 99\n",
    "\n",
    "# 平滑化（移動平均を使用）\n",
    "window_size = 5\n",
    "X_smoothed = np.zeros_like(X)\n",
    "\n",
    "for i in range(n_features):\n",
    "    for j in range(n_samples):\n",
    "        X_smoothed[j, :, i] = pd.Series(X[j, :, i]).rolling(window=window_size).mean().fillna(method='bfill')\n",
    "\n",
    "# X_flattened = X_smoothed.reshape(n_samples, -1)\n",
    "\n",
    "# 特徴量の抽出（ここでは平均と標準偏差を使用）\n",
    "X_features = np.zeros((n_samples, n_features * 2))\n",
    "\n",
    "for i in range(n_samples):\n",
    "    for j in range(n_features):\n",
    "        X_features[i, j] = np.mean(X_smoothed[i, :, j])\n",
    "        X_features[i, n_features + j] = np.std(X_smoothed[i, :, j])\n",
    "\n",
    "# データの分割\n",
    "X_train, X_test, y_train, y_test = train_test_split(X_features, Y, test_size=0.3, random_state=42)\n",
    "\n",
    "print(X_train.shape, y_train.shape)\n",
    "\n",
    "# ランダムフォレスト分類器の訓練\n",
    "clf = RandomForestClassifier(n_estimators=100, random_state=42)\n",
    "clf.fit(X_train, y_train)\n",
    "\n",
    "# 予測と評価\n",
    "y_pred = clf.predict(X_test)\n",
    "accuracy = accuracy_score(y_test, y_pred)\n",
    "\n",
    "print(f'Accuracy: {accuracy:.4f}')"
   ]
  },
  {
   "cell_type": "code",
   "execution_count": 11,
   "metadata": {},
   "outputs": [
    {
     "data": {
      "text/plain": [
       "array([53, 65, 86, 54, 98, 47, 60, 59, 80, 57])"
      ]
     },
     "execution_count": 11,
     "metadata": {},
     "output_type": "execute_result"
    }
   ],
   "source": [
    "import plotly.graph_objects as go\n",
    "\n",
    "# 特徴量の重要度を取得\n",
    "importances = clf.feature_importances_\n",
    "indices = np.argsort(importances)[::-1]  # 重要度が高い順に並べ替え\n",
    "\n",
    "indices[:10]"
   ]
  },
  {
   "cell_type": "code",
   "execution_count": 12,
   "metadata": {},
   "outputs": [
    {
     "data": {
      "text/plain": [
       "'tree.pdf'"
      ]
     },
     "execution_count": 12,
     "metadata": {},
     "output_type": "execute_result"
    }
   ],
   "source": [
    "from sklearn.tree import export_graphviz\n",
    "import graphviz\n",
    "\n",
    "# 最初の決定木を可視化\n",
    "estimator = clf.estimators_[0]\n",
    "\n",
    "# デシジョンツリーの可視化\n",
    "dot_data = export_graphviz(estimator, out_file=None, \n",
    "                           feature_names=[f'feature_{i}' for i in range(X_features.shape[1])],\n",
    "                           class_names=['class_0', 'class_1'],\n",
    "                           filled=True, rounded=True,\n",
    "                           special_characters=True)\n",
    "graph = graphviz.Source(dot_data)\n",
    "graph.render(\"tree\")  # tree.pdfとして保存される"
   ]
  },
  {
   "cell_type": "code",
   "execution_count": 8,
   "metadata": {},
   "outputs": [
    {
     "name": "stdout",
     "output_type": "stream",
     "text": [
      "Accuracy: 1.0000\n",
      "[80 98 92 86 85 91 12 96 90 63]\n"
     ]
    },
    {
     "data": {
      "text/plain": [
       "'tree.pdf'"
      ]
     },
     "execution_count": 8,
     "metadata": {},
     "output_type": "execute_result"
    }
   ],
   "source": [
    "import numpy as np\n",
    "import pandas as pd\n",
    "import matplotlib.pyplot as plt\n",
    "import plotly.graph_objects as go\n",
    "from sklearn.ensemble import RandomForestClassifier\n",
    "from sklearn.model_selection import train_test_split\n",
    "from sklearn.metrics import accuracy_score\n",
    "from sklearn.tree import export_graphviz\n",
    "import graphviz\n",
    "\n",
    "# ダミーデータの生成\n",
    "n_samples = 105\n",
    "time_steps = 200\n",
    "n_features = 99\n",
    "\n",
    "# 最初のタイムステップを取得\n",
    "X_reduced = X[:, 0, :]  # (105, 99)\n",
    "\n",
    "# データの分割\n",
    "X_train, X_test, y_train, y_test = train_test_split(X_reduced, Y, test_size=0.3, random_state=42)\n",
    "\n",
    "# ランダムフォレスト分類器の訓練\n",
    "clf = RandomForestClassifier(n_estimators=100, random_state=42)\n",
    "clf.fit(X_train, y_train)\n",
    "\n",
    "# 予測と評価\n",
    "y_pred = clf.predict(X_test)\n",
    "accuracy = accuracy_score(y_test, y_pred)\n",
    "\n",
    "print(f'Accuracy: {accuracy:.4f}')\n",
    "\n",
    "# 特徴量の重要度を取得\n",
    "importances = clf.feature_importances_\n",
    "indices = np.argsort(importances)[::-1]  # 重要度が高い順に並べ替え\n",
    "\n",
    "print(indices[:10])\n",
    "\n",
    "# 最初の決定木を可視化\n",
    "estimator = clf.estimators_[0]\n",
    "\n",
    "# デシジョンツリーの可視化\n",
    "dot_data = export_graphviz(estimator, out_file=None, \n",
    "                           feature_names=[f'feature_{i}' for i in range(X_reduced.shape[1])],\n",
    "                           class_names=['class_0', 'class_1'],\n",
    "                           filled=True, rounded=True,\n",
    "                           special_characters=True)\n",
    "graph = graphviz.Source(dot_data)\n",
    "graph.render(\"tree\")  # tree.pdfとして保存される\n"
   ]
  }
 ],
 "metadata": {
  "kernelspec": {
   "display_name": "pose-estimation-7n5e-Ili-py3.11",
   "language": "python",
   "name": "python3"
  },
  "language_info": {
   "codemirror_mode": {
    "name": "ipython",
    "version": 3
   },
   "file_extension": ".py",
   "mimetype": "text/x-python",
   "name": "python",
   "nbconvert_exporter": "python",
   "pygments_lexer": "ipython3",
   "version": "3.11.7"
  }
 },
 "nbformat": 4,
 "nbformat_minor": 2
}
